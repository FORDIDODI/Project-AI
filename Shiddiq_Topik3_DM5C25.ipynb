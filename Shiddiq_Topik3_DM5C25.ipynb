{
 "cells": [
  {
   "cell_type": "markdown",
   "id": "c72895d2",
   "metadata": {},
   "source": [
    "# Print Hello World Cik"
   ]
  },
  {
   "cell_type": "code",
   "execution_count": 1,
   "id": "200acf73",
   "metadata": {},
   "outputs": [
    {
     "name": "stdout",
     "output_type": "stream",
     "text": [
      "Hello World !\n"
     ]
    }
   ],
   "source": [
    "print(\"Hello World !\")"
   ]
  },
  {
   "cell_type": "code",
   "execution_count": 2,
   "id": "46e35b33",
   "metadata": {},
   "outputs": [
    {
     "name": "stdout",
     "output_type": "stream",
     "text": [
      "5\n"
     ]
    }
   ],
   "source": [
    "print(2+3)"
   ]
  },
  {
   "cell_type": "code",
   "execution_count": 3,
   "id": "ce7f203e",
   "metadata": {},
   "outputs": [
    {
     "name": "stdout",
     "output_type": "stream",
     "text": [
      "25\n",
      "Teknologi Rekayasa Perangkat Lunak\n"
     ]
    }
   ],
   "source": [
    "print(10*2+5) # ini adalah fungsi matematika\n",
    "print(\"Teknologi Rekayasa Perangkat Lunak\") # ini adalah prodi saya"
   ]
  },
  {
   "cell_type": "code",
   "execution_count": null,
   "id": "94e63931",
   "metadata": {},
   "outputs": [
    {
     "name": "stdout",
     "output_type": "stream",
     "text": [
      "Ini adalah sebuah baris kode\n"
     ]
    }
   ],
   "source": [
    "print(\"Ini adalah sebuah baris kode\") #Ini adalah contoh comment dan tidak tercetak"
   ]
  },
  {
   "cell_type": "markdown",
   "id": "2d553670",
   "metadata": {},
   "source": [
    "# **If Statement 😭**"
   ]
  },
  {
   "cell_type": "code",
   "execution_count": 5,
   "id": "c558682f",
   "metadata": {},
   "outputs": [
    {
     "name": "stdout",
     "output_type": "stream",
     "text": [
      "ini adalah angka 10\n"
     ]
    }
   ],
   "source": [
    "i = 10 # inisialisasi variabel i yang memiliki  nilai 10\n",
    "\n",
    "if(i==10) : # pengecheckan nilai i apakah true dengan 10\n",
    "    print(\"ini adalah angka 10\") # jika TRUE maka akan mencetak kalimat ini"
   ]
  },
  {
   "cell_type": "markdown",
   "id": "9b5e201f",
   "metadata": {},
   "source": [
    "## **If else Statement 😪**"
   ]
  },
  {
   "cell_type": "code",
   "execution_count": 6,
   "id": "3ea7bb5a",
   "metadata": {},
   "outputs": [
    {
     "name": "stdout",
     "output_type": "stream",
     "text": [
      "bukan angka 10\n"
     ]
    }
   ],
   "source": [
    "i = 5 #inisialisasi variable i yang memiliki nilai 10\n",
    "\n",
    "if(i==10): #pengecekan nilai i apakah sama dengan 10\n",
    "    print(\"ini adalah angka 10\") #jika TRUE maka akan mencetak kalimat ini\n",
    "else:\n",
    "    print(\"bukan angka 10\") #jika FALSE akan mencetak kalimat ini\n"
   ]
  },
  {
   "cell_type": "markdown",
   "id": "0d6cf784",
   "metadata": {},
   "source": [
    "### **If else elif Statement 😊**"
   ]
  },
  {
   "cell_type": "code",
   "execution_count": 7,
   "id": "c8db1f9c",
   "metadata": {},
   "outputs": [
    {
     "name": "stdout",
     "output_type": "stream",
     "text": [
      "lebih kecil dari 5\n"
     ]
    }
   ],
   "source": [
    "i=3\n",
    "\n",
    "if(i==5) :\n",
    "    print(\"ini adalah angka 5\")\n",
    "elif(i>5) :\n",
    "    print(\"ini lebih dari 5\")\n",
    "else :\n",
    "    print(\"lebih kecil dari 5\")"
   ]
  },
  {
   "cell_type": "markdown",
   "id": "05468715",
   "metadata": {},
   "source": [
    "# While"
   ]
  },
  {
   "cell_type": "code",
   "execution_count": 12,
   "id": "136c95d7",
   "metadata": {},
   "outputs": [
    {
     "name": "stdout",
     "output_type": "stream",
     "text": [
      "Ini adalah perulangan ke - 0\n",
      "Ini adalah perulangan ke - 1\n",
      "Ini adalah perulangan ke - 2\n",
      "Ini adalah perulangan ke - 3\n",
      "Ini adalah perulangan ke - 4\n",
      "Ini adalah perulangan ke - 5\n"
     ]
    }
   ],
   "source": [
    "#nilai awal j =0\n",
    "j = 0 \n",
    "\n",
    "#ketika j kurang dari 6 lakukan perulangan, jika tidak stop perulangan\n",
    "while j<6: \n",
    "    #lakukan perintah ini ketika perulangan\n",
    "    print(\"Ini adalah perulangan ke -\",j) \n",
    "    #setiap kali diakhir perulangan update nilai dengan ditambah 1.\n",
    "    j=j+1\n"
   ]
  },
  {
   "cell_type": "markdown",
   "id": "89fd5869",
   "metadata": {},
   "source": [
    "# For"
   ]
  },
  {
   "cell_type": "code",
   "execution_count": 2,
   "id": "8d4bbf00",
   "metadata": {},
   "outputs": [
    {
     "name": "stdout",
     "output_type": "stream",
     "text": [
      "Ini adalah perulangan ke - 1\n",
      "Ini adalah perulangan ke - 2\n",
      "Ini adalah perulangan ke - 3\n",
      "Ini adalah perulangan ke - 4\n",
      "Ini adalah perulangan ke - 5\n"
     ]
    }
   ],
   "source": [
    "for i in range(1,6): #perulangan for sebagai inisialisasi dari angka 1 hingga angka yang lebih kecil daripada 6.\n",
    "\n",
    "    print(\"Ini adalah perulangan ke -\", i) #perintah jika looping akan tetap berjalan\n"
   ]
  },
  {
   "cell_type": "markdown",
   "id": "3eed3e86",
   "metadata": {},
   "source": [
    "# For untuk mengakses element"
   ]
  },
  {
   "cell_type": "code",
   "execution_count": 4,
   "id": "366cb096",
   "metadata": {},
   "outputs": [
    {
     "name": "stdout",
     "output_type": "stream",
     "text": [
      "Ini adalah element count :  1\n",
      "Ini adalah element count :  2\n",
      "Ini adalah element count :  3\n",
      "Ini adalah element count :  4\n",
      "Ini adalah element count :  5\n"
     ]
    }
   ],
   "source": [
    "bebas=[1,2,3,4,5] #elemen list\n",
    "\n",
    "for number in bebas: #looping untuk menampilkan semua elemen pada count\n",
    "    print(\"Ini adalah element count : \", number) #menampilkan elemen list pada count\n"
   ]
  },
  {
   "cell_type": "markdown",
   "id": "4e89888d",
   "metadata": {},
   "source": [
    "# Function"
   ]
  },
  {
   "cell_type": "code",
   "execution_count": 7,
   "id": "f3e8bea1",
   "metadata": {},
   "outputs": [
    {
     "name": "stdout",
     "output_type": "stream",
     "text": [
      "Hello, Selamat Pagi\n"
     ]
    }
   ],
   "source": [
    "# Membuat Fungsi\n",
    "def salam():\n",
    "    print(\"Hello, Selamat Pagi\")\n",
    "\n",
    "## Pemanggilan Fungsi\n",
    "salam()\n"
   ]
  },
  {
   "cell_type": "markdown",
   "id": "6354ae73",
   "metadata": {},
   "source": [
    "# Fungsi dengan Parameter"
   ]
  },
  {
   "cell_type": "code",
   "execution_count": 5,
   "id": "c58cd634",
   "metadata": {},
   "outputs": [],
   "source": [
    "def luas_segitiga(alas, tinggi): #alas dan tinggi merupakan parameter yang masuk\n",
    "    luas = (alas * tinggi) / 2\n",
    "    print(\"Luas segitiga: %f\" % luas);\n"
   ]
  },
  {
   "cell_type": "code",
   "execution_count": 6,
   "id": "87156c4b",
   "metadata": {},
   "outputs": [
    {
     "name": "stdout",
     "output_type": "stream",
     "text": [
      "Luas segitiga: 12.000000\n"
     ]
    }
   ],
   "source": [
    "# Pemanggilan fungsi\n",
    "##4 dan 6 merupakan parameter yang diinputkan kedalam fungsi luas segitiga\n",
    "luas_segitiga(4, 6) \n"
   ]
  },
  {
   "cell_type": "markdown",
   "id": "11ad29b3",
   "metadata": {},
   "source": [
    "# Fungsi dengan Return Value"
   ]
  },
  {
   "cell_type": "code",
   "execution_count": 8,
   "id": "ceba0f23",
   "metadata": {},
   "outputs": [
    {
     "name": "stdout",
     "output_type": "stream",
     "text": [
      "Luas segitiga: 12\n"
     ]
    }
   ],
   "source": [
    "#alas dan tinggi merupakan parameter yang masuk\n",
    "def luas_segitiga(alas, tinggi):\n",
    "    luas = (alas * tinggi) / 2\n",
    "    return luas\n",
    "\n",
    "\n",
    "# Pemanggilan fungsi\n",
    "##4 dan 6 merupakan parameter yang diinputkan kedalam fungsi luas segitiga \n",
    "print(\"Luas segitiga: %d\" % luas_segitiga(4, 6))\n"
   ]
  },
  {
   "cell_type": "markdown",
   "id": "a3bca2f7",
   "metadata": {},
   "source": [
    "# Import Package dan menggunakan Modul"
   ]
  },
  {
   "cell_type": "code",
   "execution_count": 9,
   "id": "b2f5eb30",
   "metadata": {},
   "outputs": [
    {
     "name": "stdout",
     "output_type": "stream",
     "text": [
      "Nilai pi adalah: 3.141592653589793\n"
     ]
    }
   ],
   "source": [
    "import math\n",
    "print(\"Nilai pi adalah:\", math.pi)  # math.pi merupakan sintak untuk memanggil fungsi pi\n"
   ]
  },
  {
   "cell_type": "markdown",
   "id": "bdcf8265",
   "metadata": {},
   "source": [
    "# Import dengan modul rename atau alias"
   ]
  },
  {
   "cell_type": "code",
   "execution_count": 10,
   "id": "d1cab767",
   "metadata": {},
   "outputs": [
    {
     "name": "stdout",
     "output_type": "stream",
     "text": [
      "Nilai pi adalah: 3.141592653589793\n"
     ]
    }
   ],
   "source": [
    "#menggunakan m sebagai module rename atau alias\n",
    "import math as m\n",
    "\n",
    "#m.pi merupakan sintak untuk memanggil fungsi\n",
    "print(\"Nilai pi adalah:\", m.pi)\n",
    "\n"
   ]
  },
  {
   "cell_type": "markdown",
   "id": "083630cd",
   "metadata": {},
   "source": [
    "# Import Sebagian fungsi"
   ]
  },
  {
   "cell_type": "code",
   "execution_count": 11,
   "id": "73738c4b",
   "metadata": {},
   "outputs": [
    {
     "name": "stdout",
     "output_type": "stream",
     "text": [
      "Nilai pi adalah 3.141592653589793\n"
     ]
    }
   ],
   "source": [
    "from math import pi\n",
    "\n",
    "print(\"Nilai pi adalah\", pi)\n"
   ]
  },
  {
   "cell_type": "markdown",
   "id": "a88a3cb7",
   "metadata": {},
   "source": [
    "# Membaca Teks File (CSV)\n"
   ]
  },
  {
   "cell_type": "code",
   "execution_count": 12,
   "id": "bd73e472",
   "metadata": {},
   "outputs": [
    {
     "name": "stdout",
     "output_type": "stream",
     "text": [
      "['TAHUN', 'NAMA PROVINSI', 'NAMA KABUPATEN/KOTA', 'NAMA KECAMATAN', 'NAMA KELURAHAN', 'LAKI-LAKI WNI', 'PEREMPUAN WNI', 'LAKI-LAKI WNA', 'PEREMPUAN WNA', '', '', '', '', '', '', '', '', '']\n",
      "['2013', 'PROVINSI DKI JAKARTA', 'JAKARTA PUSAT', 'GAMBIR', 'GAMBIR', '1790', '1690', '1', '2', '', '', '', '', '', '', '', '', '']\n",
      "['2013', 'PROVINSI DKI JAKARTA', 'JAKARTA PUSAT', 'GAMBIR', 'CIDENG', '9159', '9206', '5', '6', '', '', '', '', '', '', '', '', '']\n",
      "['2013', 'PROVINSI DKI JAKARTA', 'JAKARTA PUSAT', 'GAMBIR', 'PETOJO UTARA', '10811', '10436', '10', '8', '', '', '', '', '', '', '', '', '']\n",
      "['2013', 'PROVINSI DKI JAKARTA', 'JAKARTA PUSAT', 'GAMBIR', 'PETOJO SELATAN', '8455', '8023', '5', '7', '', '', '', '', '', '', '', '', '']\n",
      "['2013', 'PROVINSI DKI JAKARTA', 'JAKARTA PUSAT', 'GAMBIR', 'KEBON KELAPA', '6300', '6078', '6', '10', '', '', '', '', '', '', '', '', '']\n",
      "['2013', 'PROVINSI DKI JAKARTA', 'JAKARTA PUSAT', 'GAMBIR', 'DURI PULO', '13056', '12588', '2', '6', '', '', '', '', '', '', '', '', '']\n",
      "['2013', 'PROVINSI DKI JAKARTA', 'JAKARTA PUSAT', 'SAWAH BESAR', 'PASAR BARU', '7557', '7552', '34', '55', '', '', '', '', '', '', '', '', '']\n",
      "['2013', 'PROVINSI DKI JAKARTA', 'JAKARTA PUSAT', 'SAWAH BESAR', 'KARANG ANYAR', '16327', '15859', '4', '2', '', '', '', '', '', '', '', '', '']\n",
      "['2013', 'PROVINSI DKI JAKARTA', 'JAKARTA PUSAT', 'SAWAH BESAR', 'KARTINI', '13610', '13808', '3', '3', '', '', '', '', '', '', '', '', '']\n",
      "['2013', 'PROVINSI DKI JAKARTA', 'JAKARTA PUSAT', 'SAWAH BESAR', 'GUNUNG SAHARI UTARA', '9734', '9889', '15', '30', '', '', '', '', '', '', '', '', '']\n",
      "['2013', 'PROVINSI DKI JAKARTA', 'JAKARTA PUSAT', 'SAWAH BESAR', 'MANGGA DUA SELATAN', '17269', '16458', '42', '33', '', '', '', '', '', '', '', '', '']\n",
      "['2013', 'PROVINSI DKI JAKARTA', 'JAKARTA PUSAT', 'KEMAYORAN', 'KEMAYORAN', '12365', '11932', '6', '8', '', '', '', '', '', '', '', '', '']\n",
      "['2013', 'PROVINSI DKI JAKARTA', 'JAKARTA PUSAT', 'KEMAYORAN', 'KEBON KOSONG', '15933', '15665', '33', '25', '', '', '', '', '', '', '', '', '']\n",
      "['2013', 'PROVINSI DKI JAKARTA', 'JAKARTA PUSAT', 'KEMAYORAN', 'HARAPAN MULIA', '13523', '13049', '2', '3', '', '', '', '', '', '', '', '', '']\n",
      "['2013', 'PROVINSI DKI JAKARTA', 'JAKARTA PUSAT', 'KEMAYORAN', 'SERDANG', '17284', '17020', '1', '1', '', '', '', '', '', '', '', '', '']\n",
      "['2013', 'PROVINSI DKI JAKARTA', 'JAKARTA PUSAT', 'KEMAYORAN', 'GUNUNG SAHARI SELATAN', '11730', '11487', '13', '15', '', '', '', '', '', '', '', '', '']\n",
      "['2013', 'PROVINSI DKI JAKARTA', 'JAKARTA PUSAT', 'KEMAYORAN', 'CEMPAKA BARU', '19103', '18601', '', '3', '', '', '', '', '', '', '', '', '']\n",
      "['2013', 'PROVINSI DKI JAKARTA', 'JAKARTA PUSAT', 'KEMAYORAN', 'SUMUR BATU', '13441', '13288', '20', '13', '', '', '', '', '', '', '', '', '']\n",
      "['2013', 'PROVINSI DKI JAKARTA', 'JAKARTA PUSAT', 'KEMAYORAN', 'UTAN PANJANG', '17125', '16351', '4', '3', '', '', '', '', '', '', '', '', '']\n",
      "['2013', 'PROVINSI DKI JAKARTA', 'JAKARTA PUSAT', 'SENEN', 'SENEN', '4236', '3975', '10', '7', '', '', '', '', '', '', '', '', '']\n",
      "['2013', 'PROVINSI DKI JAKARTA', 'JAKARTA PUSAT', 'SENEN', 'KENARI', '5445', '5252', '2', '', '', '', '', '', '', '', '', '', '']\n",
      "['2013', 'PROVINSI DKI JAKARTA', 'JAKARTA PUSAT', 'SENEN', 'PASEBAN', '13787', '13477', '', '', '', '', '', '', '', '', '', '', '']\n",
      "['2013', 'PROVINSI DKI JAKARTA', 'JAKARTA PUSAT', 'SENEN', 'KRAMAT', '17482', '16331', '2', '2', '', '', '', '', '', '', '', '', '']\n",
      "['2013', 'PROVINSI DKI JAKARTA', 'JAKARTA PUSAT', 'SENEN', 'KWITANG', '9176', '9148', '1', '1', '', '', '', '', '', '', '', '', '']\n",
      "['2013', 'PROVINSI DKI JAKARTA', 'JAKARTA PUSAT', 'SENEN', 'BUNGUR', '11200', '10849', '4', '3', '', '', '', '', '', '', '', '', '']\n",
      "['2013', 'PROVINSI DKI JAKARTA', 'JAKARTA PUSAT', 'CEMPAKA PUTIH', 'CEMPAKA PUTIH TIMUR', '13630', '13686', '24', '24', '', '', '', '', '', '', '', '', '']\n",
      "['2013', 'PROVINSI DKI JAKARTA', 'JAKARTA PUSAT', 'CEMPAKA PUTIH', 'CEMPAKA PUTIH BARAT', '20029', '19681', '12', '2', '', '', '', '', '', '', '', '', '']\n",
      "['2013', 'PROVINSI DKI JAKARTA', 'JAKARTA PUSAT', 'CEMPAKA PUTIH', 'RAWASARI', '12462', '12465', '1', '3', '', '', '', '', '', '', '', '', '']\n",
      "['2013', 'PROVINSI DKI JAKARTA', 'JAKARTA PUSAT', 'MENTENG', 'MENTENG', '14576', '14610', '7', '10', '', '', '', '', '', '', '', '', '']\n",
      "['2013', 'PROVINSI DKI JAKARTA', 'JAKARTA PUSAT', 'MENTENG', 'PEGANGSAAN', '13392', '13214', '2', '', '', '', '', '', '', '', '', '', '']\n",
      "['2013', 'PROVINSI DKI JAKARTA', 'JAKARTA PUSAT', 'MENTENG', 'CIKINI', '4825', '4772', '5', '1', '', '', '', '', '', '', '', '', '']\n",
      "['2013', 'PROVINSI DKI JAKARTA', 'JAKARTA PUSAT', 'MENTENG', 'GONDANGDIA', '2196', '2443', '11', '13', '', '', '', '', '', '', '', '', '']\n",
      "['2013', 'PROVINSI DKI JAKARTA', 'JAKARTA PUSAT', 'MENTENG', 'KEBON SIRIH', '7976', '7439', '2', '2', '', '', '', '', '', '', '', '', '']\n",
      "['2013', 'PROVINSI DKI JAKARTA', 'JAKARTA PUSAT', 'TANAH ABANG', 'GELORA', '1865', '1883', '6', '2', '', '', '', '', '', '', '', '', '']\n",
      "['2013', 'PROVINSI DKI JAKARTA', 'JAKARTA PUSAT', 'TANAH ABANG', 'BENDUNGAN HILIR', '12713', '12582', '11', '2', '', '', '', '', '', '', '', '', '']\n",
      "['2013', 'PROVINSI DKI JAKARTA', 'JAKARTA PUSAT', 'TANAH ABANG', 'KARET TENGSIN', '11002', '10271', '10', '3', '', '', '', '', '', '', '', '', '']\n",
      "['2013', 'PROVINSI DKI JAKARTA', 'JAKARTA PUSAT', 'TANAH ABANG', 'PETAMBURAN', '20112', '18794', '17', '13', '', '', '', '', '', '', '', '', '']\n",
      "['2013', 'PROVINSI DKI JAKARTA', 'JAKARTA PUSAT', 'TANAH ABANG', 'KEBON MELATI', '19826', '18672', '8', '4', '', '', '', '', '', '', '', '', '']\n",
      "['2013', 'PROVINSI DKI JAKARTA', 'JAKARTA PUSAT', 'TANAH ABANG', 'KEBON KACANG', '12873', '12357', '3', '4', '', '', '', '', '', '', '', '', '']\n",
      "['2013', 'PROVINSI DKI JAKARTA', 'JAKARTA PUSAT', 'TANAH ABANG', 'KAMPUNG BALI', '7348', '7205', '3', '1', '', '', '', '', '', '', '', '', '']\n",
      "['2013', 'PROVINSI DKI JAKARTA', 'JAKARTA PUSAT', 'JOHAR BARU', 'JOHAR BARU', '21016', '20953', '2', '', '', '', '', '', '', '', '', '', '']\n",
      "['2013', 'PROVINSI DKI JAKARTA', 'JAKARTA PUSAT', 'JOHAR BARU', 'KAMPUNG RAWA', '13337', '12499', '1', '', '', '', '', '', '', '', '', '', '']\n",
      "['2013', 'PROVINSI DKI JAKARTA', 'JAKARTA PUSAT', 'JOHAR BARU', 'GALUR', '11077', '10259', '', '', '', '', '', '', '', '', '', '', '']\n",
      "['2013', 'PROVINSI DKI JAKARTA', 'JAKARTA PUSAT', 'JOHAR BARU', 'TANAH TINGGI', '22680', '21450', '', '', '', '', '', '', '', '', '', '', '']\n"
     ]
    }
   ],
   "source": [
    "import requests\n",
    "from contextlib import closing\n",
    "import csv\n",
    "\n",
    "# tentukan lokasi file, nama file, dan inisialisasi csv\n",
    "url = 'https://storage.googleapis.com/dqlab-dataset/penduduk_gender_head.csv'\n",
    "\n",
    "# baca file csv secara streaming \n",
    "with closing(requests.get(url, stream=True)) as r:\n",
    "    f = (line.decode('utf-8') for line in r.iter_lines())\n",
    "\n",
    "    reader = csv.reader(f, delimiter=',')\n",
    "\n",
    "    # membaca baris per baris\n",
    "    for row in reader:\n",
    "        print(row)\n"
   ]
  },
  {
   "cell_type": "markdown",
   "id": "be2b102f",
   "metadata": {},
   "source": [
    "# Membaca file CSV menggunakan PANDAS\n"
   ]
  },
  {
   "cell_type": "code",
   "execution_count": 13,
   "id": "31e3bbe7",
   "metadata": {},
   "outputs": [
    {
     "name": "stdout",
     "output_type": "stream",
     "text": [
      "    TAHUN         NAMA PROVINSI NAMA KABUPATEN/KOTA NAMA KECAMATAN  \\\n",
      "0    2013  PROVINSI DKI JAKARTA       JAKARTA PUSAT         GAMBIR   \n",
      "1    2013  PROVINSI DKI JAKARTA       JAKARTA PUSAT         GAMBIR   \n",
      "2    2013  PROVINSI DKI JAKARTA       JAKARTA PUSAT         GAMBIR   \n",
      "3    2013  PROVINSI DKI JAKARTA       JAKARTA PUSAT         GAMBIR   \n",
      "4    2013  PROVINSI DKI JAKARTA       JAKARTA PUSAT         GAMBIR   \n",
      "5    2013  PROVINSI DKI JAKARTA       JAKARTA PUSAT         GAMBIR   \n",
      "6    2013  PROVINSI DKI JAKARTA       JAKARTA PUSAT    SAWAH BESAR   \n",
      "7    2013  PROVINSI DKI JAKARTA       JAKARTA PUSAT    SAWAH BESAR   \n",
      "8    2013  PROVINSI DKI JAKARTA       JAKARTA PUSAT    SAWAH BESAR   \n",
      "9    2013  PROVINSI DKI JAKARTA       JAKARTA PUSAT    SAWAH BESAR   \n",
      "10   2013  PROVINSI DKI JAKARTA       JAKARTA PUSAT    SAWAH BESAR   \n",
      "11   2013  PROVINSI DKI JAKARTA       JAKARTA PUSAT      KEMAYORAN   \n",
      "12   2013  PROVINSI DKI JAKARTA       JAKARTA PUSAT      KEMAYORAN   \n",
      "13   2013  PROVINSI DKI JAKARTA       JAKARTA PUSAT      KEMAYORAN   \n",
      "14   2013  PROVINSI DKI JAKARTA       JAKARTA PUSAT      KEMAYORAN   \n",
      "15   2013  PROVINSI DKI JAKARTA       JAKARTA PUSAT      KEMAYORAN   \n",
      "16   2013  PROVINSI DKI JAKARTA       JAKARTA PUSAT      KEMAYORAN   \n",
      "17   2013  PROVINSI DKI JAKARTA       JAKARTA PUSAT      KEMAYORAN   \n",
      "18   2013  PROVINSI DKI JAKARTA       JAKARTA PUSAT      KEMAYORAN   \n",
      "19   2013  PROVINSI DKI JAKARTA       JAKARTA PUSAT          SENEN   \n",
      "20   2013  PROVINSI DKI JAKARTA       JAKARTA PUSAT          SENEN   \n",
      "21   2013  PROVINSI DKI JAKARTA       JAKARTA PUSAT          SENEN   \n",
      "22   2013  PROVINSI DKI JAKARTA       JAKARTA PUSAT          SENEN   \n",
      "23   2013  PROVINSI DKI JAKARTA       JAKARTA PUSAT          SENEN   \n",
      "24   2013  PROVINSI DKI JAKARTA       JAKARTA PUSAT          SENEN   \n",
      "25   2013  PROVINSI DKI JAKARTA       JAKARTA PUSAT  CEMPAKA PUTIH   \n",
      "26   2013  PROVINSI DKI JAKARTA       JAKARTA PUSAT  CEMPAKA PUTIH   \n",
      "27   2013  PROVINSI DKI JAKARTA       JAKARTA PUSAT  CEMPAKA PUTIH   \n",
      "28   2013  PROVINSI DKI JAKARTA       JAKARTA PUSAT        MENTENG   \n",
      "29   2013  PROVINSI DKI JAKARTA       JAKARTA PUSAT        MENTENG   \n",
      "30   2013  PROVINSI DKI JAKARTA       JAKARTA PUSAT        MENTENG   \n",
      "31   2013  PROVINSI DKI JAKARTA       JAKARTA PUSAT        MENTENG   \n",
      "32   2013  PROVINSI DKI JAKARTA       JAKARTA PUSAT        MENTENG   \n",
      "33   2013  PROVINSI DKI JAKARTA       JAKARTA PUSAT    TANAH ABANG   \n",
      "34   2013  PROVINSI DKI JAKARTA       JAKARTA PUSAT    TANAH ABANG   \n",
      "35   2013  PROVINSI DKI JAKARTA       JAKARTA PUSAT    TANAH ABANG   \n",
      "36   2013  PROVINSI DKI JAKARTA       JAKARTA PUSAT    TANAH ABANG   \n",
      "37   2013  PROVINSI DKI JAKARTA       JAKARTA PUSAT    TANAH ABANG   \n",
      "38   2013  PROVINSI DKI JAKARTA       JAKARTA PUSAT    TANAH ABANG   \n",
      "39   2013  PROVINSI DKI JAKARTA       JAKARTA PUSAT    TANAH ABANG   \n",
      "40   2013  PROVINSI DKI JAKARTA       JAKARTA PUSAT     JOHAR BARU   \n",
      "41   2013  PROVINSI DKI JAKARTA       JAKARTA PUSAT     JOHAR BARU   \n",
      "42   2013  PROVINSI DKI JAKARTA       JAKARTA PUSAT     JOHAR BARU   \n",
      "43   2013  PROVINSI DKI JAKARTA       JAKARTA PUSAT     JOHAR BARU   \n",
      "\n",
      "           NAMA KELURAHAN  LAKI-LAKI WNI  PEREMPUAN WNI  LAKI-LAKI WNA  \\\n",
      "0                  GAMBIR           1790           1690            1.0   \n",
      "1                  CIDENG           9159           9206            5.0   \n",
      "2            PETOJO UTARA          10811          10436           10.0   \n",
      "3          PETOJO SELATAN           8455           8023            5.0   \n",
      "4            KEBON KELAPA           6300           6078            6.0   \n",
      "5               DURI PULO          13056          12588            2.0   \n",
      "6              PASAR BARU           7557           7552           34.0   \n",
      "7            KARANG ANYAR          16327          15859            4.0   \n",
      "8                 KARTINI          13610          13808            3.0   \n",
      "9     GUNUNG SAHARI UTARA           9734           9889           15.0   \n",
      "10     MANGGA DUA SELATAN          17269          16458           42.0   \n",
      "11              KEMAYORAN          12365          11932            6.0   \n",
      "12           KEBON KOSONG          15933          15665           33.0   \n",
      "13          HARAPAN MULIA          13523          13049            2.0   \n",
      "14                SERDANG          17284          17020            1.0   \n",
      "15  GUNUNG SAHARI SELATAN          11730          11487           13.0   \n",
      "16           CEMPAKA BARU          19103          18601            NaN   \n",
      "17             SUMUR BATU          13441          13288           20.0   \n",
      "18           UTAN PANJANG          17125          16351            4.0   \n",
      "19                  SENEN           4236           3975           10.0   \n",
      "20                 KENARI           5445           5252            2.0   \n",
      "21                PASEBAN          13787          13477            NaN   \n",
      "22                 KRAMAT          17482          16331            2.0   \n",
      "23                KWITANG           9176           9148            1.0   \n",
      "24                 BUNGUR          11200          10849            4.0   \n",
      "25    CEMPAKA PUTIH TIMUR          13630          13686           24.0   \n",
      "26    CEMPAKA PUTIH BARAT          20029          19681           12.0   \n",
      "27               RAWASARI          12462          12465            1.0   \n",
      "28                MENTENG          14576          14610            7.0   \n",
      "29             PEGANGSAAN          13392          13214            2.0   \n",
      "30                 CIKINI           4825           4772            5.0   \n",
      "31             GONDANGDIA           2196           2443           11.0   \n",
      "32            KEBON SIRIH           7976           7439            2.0   \n",
      "33                 GELORA           1865           1883            6.0   \n",
      "34        BENDUNGAN HILIR          12713          12582           11.0   \n",
      "35          KARET TENGSIN          11002          10271           10.0   \n",
      "36             PETAMBURAN          20112          18794           17.0   \n",
      "37           KEBON MELATI          19826          18672            8.0   \n",
      "38           KEBON KACANG          12873          12357            3.0   \n",
      "39           KAMPUNG BALI           7348           7205            3.0   \n",
      "40             JOHAR BARU          21016          20953            2.0   \n",
      "41           KAMPUNG RAWA          13337          12499            1.0   \n",
      "42                  GALUR          11077          10259            NaN   \n",
      "43           TANAH TINGGI          22680          21450            NaN   \n",
      "\n",
      "    PEREMPUAN WNA  Unnamed: 9  Unnamed: 10  Unnamed: 11  Unnamed: 12  \\\n",
      "0             2.0         NaN          NaN          NaN          NaN   \n",
      "1             6.0         NaN          NaN          NaN          NaN   \n",
      "2             8.0         NaN          NaN          NaN          NaN   \n",
      "3             7.0         NaN          NaN          NaN          NaN   \n",
      "4            10.0         NaN          NaN          NaN          NaN   \n",
      "5             6.0         NaN          NaN          NaN          NaN   \n",
      "6            55.0         NaN          NaN          NaN          NaN   \n",
      "7             2.0         NaN          NaN          NaN          NaN   \n",
      "8             3.0         NaN          NaN          NaN          NaN   \n",
      "9            30.0         NaN          NaN          NaN          NaN   \n",
      "10           33.0         NaN          NaN          NaN          NaN   \n",
      "11            8.0         NaN          NaN          NaN          NaN   \n",
      "12           25.0         NaN          NaN          NaN          NaN   \n",
      "13            3.0         NaN          NaN          NaN          NaN   \n",
      "14            1.0         NaN          NaN          NaN          NaN   \n",
      "15           15.0         NaN          NaN          NaN          NaN   \n",
      "16            3.0         NaN          NaN          NaN          NaN   \n",
      "17           13.0         NaN          NaN          NaN          NaN   \n",
      "18            3.0         NaN          NaN          NaN          NaN   \n",
      "19            7.0         NaN          NaN          NaN          NaN   \n",
      "20            NaN         NaN          NaN          NaN          NaN   \n",
      "21            NaN         NaN          NaN          NaN          NaN   \n",
      "22            2.0         NaN          NaN          NaN          NaN   \n",
      "23            1.0         NaN          NaN          NaN          NaN   \n",
      "24            3.0         NaN          NaN          NaN          NaN   \n",
      "25           24.0         NaN          NaN          NaN          NaN   \n",
      "26            2.0         NaN          NaN          NaN          NaN   \n",
      "27            3.0         NaN          NaN          NaN          NaN   \n",
      "28           10.0         NaN          NaN          NaN          NaN   \n",
      "29            NaN         NaN          NaN          NaN          NaN   \n",
      "30            1.0         NaN          NaN          NaN          NaN   \n",
      "31           13.0         NaN          NaN          NaN          NaN   \n",
      "32            2.0         NaN          NaN          NaN          NaN   \n",
      "33            2.0         NaN          NaN          NaN          NaN   \n",
      "34            2.0         NaN          NaN          NaN          NaN   \n",
      "35            3.0         NaN          NaN          NaN          NaN   \n",
      "36           13.0         NaN          NaN          NaN          NaN   \n",
      "37            4.0         NaN          NaN          NaN          NaN   \n",
      "38            4.0         NaN          NaN          NaN          NaN   \n",
      "39            1.0         NaN          NaN          NaN          NaN   \n",
      "40            NaN         NaN          NaN          NaN          NaN   \n",
      "41            NaN         NaN          NaN          NaN          NaN   \n",
      "42            NaN         NaN          NaN          NaN          NaN   \n",
      "43            NaN         NaN          NaN          NaN          NaN   \n",
      "\n",
      "    Unnamed: 13  Unnamed: 14  Unnamed: 15  Unnamed: 16  Unnamed: 17  \n",
      "0           NaN          NaN          NaN          NaN          NaN  \n",
      "1           NaN          NaN          NaN          NaN          NaN  \n",
      "2           NaN          NaN          NaN          NaN          NaN  \n",
      "3           NaN          NaN          NaN          NaN          NaN  \n",
      "4           NaN          NaN          NaN          NaN          NaN  \n",
      "5           NaN          NaN          NaN          NaN          NaN  \n",
      "6           NaN          NaN          NaN          NaN          NaN  \n",
      "7           NaN          NaN          NaN          NaN          NaN  \n",
      "8           NaN          NaN          NaN          NaN          NaN  \n",
      "9           NaN          NaN          NaN          NaN          NaN  \n",
      "10          NaN          NaN          NaN          NaN          NaN  \n",
      "11          NaN          NaN          NaN          NaN          NaN  \n",
      "12          NaN          NaN          NaN          NaN          NaN  \n",
      "13          NaN          NaN          NaN          NaN          NaN  \n",
      "14          NaN          NaN          NaN          NaN          NaN  \n",
      "15          NaN          NaN          NaN          NaN          NaN  \n",
      "16          NaN          NaN          NaN          NaN          NaN  \n",
      "17          NaN          NaN          NaN          NaN          NaN  \n",
      "18          NaN          NaN          NaN          NaN          NaN  \n",
      "19          NaN          NaN          NaN          NaN          NaN  \n",
      "20          NaN          NaN          NaN          NaN          NaN  \n",
      "21          NaN          NaN          NaN          NaN          NaN  \n",
      "22          NaN          NaN          NaN          NaN          NaN  \n",
      "23          NaN          NaN          NaN          NaN          NaN  \n",
      "24          NaN          NaN          NaN          NaN          NaN  \n",
      "25          NaN          NaN          NaN          NaN          NaN  \n",
      "26          NaN          NaN          NaN          NaN          NaN  \n",
      "27          NaN          NaN          NaN          NaN          NaN  \n",
      "28          NaN          NaN          NaN          NaN          NaN  \n",
      "29          NaN          NaN          NaN          NaN          NaN  \n",
      "30          NaN          NaN          NaN          NaN          NaN  \n",
      "31          NaN          NaN          NaN          NaN          NaN  \n",
      "32          NaN          NaN          NaN          NaN          NaN  \n",
      "33          NaN          NaN          NaN          NaN          NaN  \n",
      "34          NaN          NaN          NaN          NaN          NaN  \n",
      "35          NaN          NaN          NaN          NaN          NaN  \n",
      "36          NaN          NaN          NaN          NaN          NaN  \n",
      "37          NaN          NaN          NaN          NaN          NaN  \n",
      "38          NaN          NaN          NaN          NaN          NaN  \n",
      "39          NaN          NaN          NaN          NaN          NaN  \n",
      "40          NaN          NaN          NaN          NaN          NaN  \n",
      "41          NaN          NaN          NaN          NaN          NaN  \n",
      "42          NaN          NaN          NaN          NaN          NaN  \n",
      "43          NaN          NaN          NaN          NaN          NaN  \n"
     ]
    }
   ],
   "source": [
    "import pandas as pd\n",
    "pd.set_option(\"display.max_columns\",50)\n",
    "\n",
    "table = pd.read_csv(\"https://storage.googleapis.com/dqlab-dataset/penduduk_gender_head.csv\")\n",
    "table.head()\n",
    "print(table)\n"
   ]
  },
  {
   "cell_type": "code",
   "execution_count": null,
   "id": "bf6b9325",
   "metadata": {},
   "outputs": [],
   "source": []
  }
 ],
 "metadata": {
  "kernelspec": {
   "display_name": "Python 3",
   "language": "python",
   "name": "python3"
  },
  "language_info": {
   "codemirror_mode": {
    "name": "ipython",
    "version": 3
   },
   "file_extension": ".py",
   "mimetype": "text/x-python",
   "name": "python",
   "nbconvert_exporter": "python",
   "pygments_lexer": "ipython3",
   "version": "3.11.9"
  }
 },
 "nbformat": 4,
 "nbformat_minor": 5
}
